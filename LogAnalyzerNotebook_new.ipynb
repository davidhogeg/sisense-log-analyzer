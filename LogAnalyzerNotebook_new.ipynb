{
 "cells": [
  {
   "cell_type": "code",
   "execution_count": null,
   "metadata": {
    "pycharm": {
     "name": "#%% \n"
    },
    "slideshow": {
     "slide_type": "slide"
    }
   },
   "outputs": [],
   "source": [
    "# Test cell\n",
    "additional_parameters = '''{\"type\": \"MONITOR\"}'''\n"
   ]
  },
  {
   "cell_type": "markdown",
   "metadata": {
    "pycharm": {
     "name": "#%% md\n"
    }
   },
   "source": [
    "## Imports\n"
   ]
  },
  {
   "cell_type": "code",
   "execution_count": 2,
   "metadata": {},
   "outputs": [
    {
     "name": "stdout",
     "output_type": "stream",
     "text": [
      "Collecting reparse\n",
      "  Downloading https://files.pythonhosted.org/packages/08/fe/2822999b3ae6295ae91fb67d7feb640a26138714bd1f64551a1a87a4dfc5/reparse-3.0.tar.gz\n",
      "Collecting regex\n",
      "\u001b[?25l  Downloading https://files.pythonhosted.org/packages/84/7f/cf29aa66bd1846df3fc0e494cc8eedfefb9328ad68798dc8be0dbcfc165b/regex-2021.3.17-cp37-cp37m-manylinux2014_x86_64.whl (721kB)\n",
      "\u001b[K     |████████████████████████████████| 727kB 1.0MB/s eta 0:00:01\n",
      "\u001b[?25hCollecting pyyaml\n",
      "\u001b[?25l  Downloading https://files.pythonhosted.org/packages/7a/a5/393c087efdc78091afa2af9f1378762f9821c9c1d7a22c5753fb5ac5f97a/PyYAML-5.4.1-cp37-cp37m-manylinux1_x86_64.whl (636kB)\n",
      "\u001b[K     |████████████████████████████████| 645kB 11.5MB/s eta 0:00:01\n",
      "\u001b[?25hBuilding wheels for collected packages: reparse\n",
      "  Building wheel for reparse (setup.py) ... \u001b[?25ldone\n",
      "\u001b[?25h  Created wheel for reparse: filename=reparse-3.0-cp37-none-any.whl size=7690 sha256=a4f7b68930183cfd9377a84c3dd3a4cdf58a14ec12961d07bbde526bca164c84\n",
      "  Stored in directory: /home/jovyan/.cache/pip/wheels/30/91/24/cb0f9096c8fe9ef9b5f5792325d52f88c22ef6e5926e6f2122\n",
      "Successfully built reparse\n",
      "Installing collected packages: regex, pyyaml, reparse\n",
      "Successfully installed pyyaml-5.4.1 regex-2021.3.17 reparse-3.0\n"
     ]
    }
   ],
   "source": [
    "! pip install reparse"
   ]
  },
  {
   "cell_type": "code",
   "execution_count": 4,
   "metadata": {
    "pycharm": {
     "name": "#%%\n"
    }
   },
   "outputs": [],
   "source": [
    "import json\n",
    "import logging\n",
    "import os\n",
    "import fnmatch\n",
    "\n",
    "import numpy\n",
    "from functions import functions\n",
    "import reparse\n",
    "import csv\n",
    "import pandas as pd\n",
    "from IPython.display import display, HTML\n",
    "import re\n",
    "from datetime import datetime"
   ]
  },
  {
   "cell_type": "code",
   "execution_count": null,
   "metadata": {
    "pycharm": {
     "name": "#%%\n"
    }
   },
   "outputs": [],
   "source": [
    "add_param = json.loads(additional_parameters)\n",
    "print(add_param)"
   ]
  },
  {
   "cell_type": "markdown",
   "metadata": {
    "pycharm": {
     "name": "#%% md\n"
    }
   },
   "source": [
    "# Input Files\n",
    "\n",
    "Specify the location for the log fils to analyze.\n",
    "The notebook **can't** access the application log files directory, therefor you need to copy the log files into the directory you specify here.\n",
    "\n",
    "To copy the log files to the input directory:\n",
    "\n",
    "1. In the Admin tab for the Sisense application got to \"System Management -> File Managment\"\n",
    "2. Click on the \"data\" folder.\n",
    "3. Create a new folder with the name \"logs_to_parse\".\n",
    "4. Copy the logs from your logs directory to the new directory by running:\n",
    "\n",
    "    `ls -ltr <Path to logs> | awk '{print $9}' |  xargs  -I file  kubectl cp -n sisense file <Storage Pod ID>:/opt/sisense/storage/data/logs_to_parse`\n",
    "\n",
    "    for Example:\n",
    "\n",
    "    `ls -ltr api-gateway.log* | awk '{print $9}' |  xargs  -I file  kubectl cp -n sisense file storage-7db89977d-bk96f:/opt/sisense/storage/data/logs_to_parse`"
   ]
  },
  {
   "cell_type": "code",
   "execution_count": 5,
   "metadata": {
    "pycharm": {
     "name": "#%%\n"
    }
   },
   "outputs": [],
   "source": [
    "log_files_dir = \"/opt/sisense/storage/data/logs_to_parse\""
   ]
  },
  {
   "cell_type": "markdown",
   "metadata": {
    "pycharm": {
     "name": "#%% md\n"
    }
   },
   "source": [
    "Specify the logs to parse. You can use wildcards in the pattern to specifiy multiple files.\n"
   ]
  },
  {
   "cell_type": "code",
   "execution_count": 6,
   "metadata": {
    "pycharm": {
     "name": "#%%\n"
    }
   },
   "outputs": [],
   "source": [
    "log_files_pattern = \"api-gateway.log*\""
   ]
  },
  {
   "cell_type": "markdown",
   "metadata": {
    "pycharm": {
     "name": "#%% md\n"
    }
   },
   "source": [
    "## Output Files\n",
    "\n",
    "1. In the Admin tab for the Sisense application got to \"System Management -> File Managment\"\n",
    "2. Click on the \"data\" folder.\n",
    "3. Create a new folder with the name \"csv\"."
   ]
  },
  {
   "cell_type": "code",
   "execution_count": 22,
   "metadata": {
    "pycharm": {
     "name": "#%%\n"
    }
   },
   "outputs": [],
   "source": [
    "output_csv_dir = \"/opt/sisense/storage/data/csv/\""
   ]
  },
  {
   "cell_type": "code",
   "execution_count": 10,
   "metadata": {
    "pycharm": {
     "is_executing": true
    }
   },
   "outputs": [
    {
     "name": "stdout",
     "output_type": "stream",
     "text": [
      "Parsing api-gateway.log\n",
      "Parsing api-gateway.log-20210219-1613733301\n",
      "Parsing api-gateway.log-20210223-1614078902\n",
      "Parsing api-gateway.log-20210224-1614181503\n",
      "Parsing api-gateway.log-20210225-1614284110\n",
      "Parsing api-gateway.log-20210227-1614394801\n",
      "Parsing api-gateway.log-20210228-1614503710\n",
      "Parsing api-gateway.log-20210301-1614623402\n",
      "Parsing api-gateway.log-20210312-1615544102\n"
     ]
    }
   ],
   "source": [
    "parsed_log_entries = []\n",
    "\n",
    "token_spec = r'(?P<TYPE>MONITOR|ERROR|WARN|INFO|TRACE|DEBUG)'\n",
    "\n",
    "for f in os.listdir(log_files_dir):\n",
    "\n",
    "    match = fnmatch.fnmatch(f, log_files_pattern)\n",
    "\n",
    "    if match:\n",
    "        print(\"Parsing \" + f)\n",
    "        with open(\"{0}/{1}\".format(log_files_dir, f), newline='\\n') as f:\n",
    "            # read_data = f.reafd()\n",
    "            # line_num = 1\n",
    "            parser = reparse.parser(\n",
    "                            parser_type=reparse.basic_parser,\n",
    "                            expressions_yaml_path='expression.yaml',\n",
    "                            patterns_yaml_path='patterns.yaml',\n",
    "                            functions=functions\n",
    "                        )\n",
    "            raw_entry_buffer = \"\"\n",
    "\n",
    "            for line in f:\n",
    "\n",
    "                mo = re.search(token_spec, line)\n",
    "                if mo:\n",
    "                    res = mo.group()\n",
    "                    # print(res)\n",
    "                    # if res == add_param[\"type\"]:\n",
    "\n",
    "                    if raw_entry_buffer == \"\":\n",
    "\n",
    "                        raw_entry_buffer += line\n",
    "\n",
    "                    else:\n",
    "\n",
    "                        mo = re.search(token_spec, raw_entry_buffer)\n",
    "                        reaesc = re.compile(r'\\x1b[^m]*m')\n",
    "                        raw_entry_buffer = reaesc.sub('', raw_entry_buffer)\n",
    "                        if parser(raw_entry_buffer):\n",
    "\n",
    "                            new_entry = parser(raw_entry_buffer)[0]\n",
    "                            # print(raw_entry_buffer)\n",
    "                            # print(new_entry)\n",
    "                            parsed_log_entries.append(new_entry)\n",
    "                        raw_entry_buffer = line\n",
    "\n",
    "                else:\n",
    "                    raw_entry_buffer += line\n",
    "\n"
   ]
  },
  {
   "cell_type": "code",
   "execution_count": 11,
   "metadata": {
    "pycharm": {
     "is_executing": true,
     "name": "#%%\n"
    }
   },
   "outputs": [],
   "source": [
    "# for e in parsed_log_entries:\n",
    "#     print(e)"
   ]
  },
  {
   "cell_type": "code",
   "execution_count": 12,
   "metadata": {
    "pycharm": {
     "is_executing": true,
     "name": "#%%\n"
    }
   },
   "outputs": [],
   "source": [
    "data_frames = {\n",
    "    \"INFO\": pd.DataFrame(),\n",
    "    \"MONITOR\": pd.DataFrame()\n",
    "}"
   ]
  },
  {
   "cell_type": "code",
   "execution_count": 13,
   "metadata": {
    "pycharm": {
     "is_executing": true,
     "name": "#%%\n"
    }
   },
   "outputs": [],
   "source": [
    "# Cleanup INFO entries\n",
    "# info_list = list(filter(lambda x: x['type'] == \"INFO\", parsed_log_entries ))"
   ]
  },
  {
   "cell_type": "code",
   "execution_count": 14,
   "metadata": {
    "pycharm": {
     "is_executing": true,
     "name": "#%%\n"
    }
   },
   "outputs": [],
   "source": [
    "# Extract monitor entries\n",
    "monitor_list = list(filter(lambda x: x['type'] == \"MONITOR\", parsed_log_entries ))\n"
   ]
  },
  {
   "cell_type": "code",
   "execution_count": 16,
   "metadata": {
    "pycharm": {
     "is_executing": true,
     "name": "#%%\n"
    }
   },
   "outputs": [],
   "source": [
    "# df_info = pd.DataFrame(info_list)\n",
    "\n",
    "df_monitor = pd.DataFrame(monitor_list)"
   ]
  },
  {
   "cell_type": "code",
   "execution_count": null,
   "metadata": {
    "pycharm": {
     "is_executing": true,
     "name": "#%%\n"
    }
   },
   "outputs": [],
   "source": [
    "# For testing\n",
    "# print(df_info.info())\n",
    "# display(df_info)\n",
    "#\n",
    "# print(df_monitor.info())\n",
    "# display(df_monitor)\n",
    "\n",
    " # Make sure the results are as expected (Optional)\n",
    "# print(df_info.head())\n",
    "# print(df_monitor.head())"
   ]
  },
  {
   "cell_type": "code",
   "execution_count": 20,
   "metadata": {},
   "outputs": [
    {
     "name": "stdout",
     "output_type": "stream",
     "text": [
      "/opt/sisense/storage/data/csv\n"
     ]
    }
   ],
   "source": [
    "print(output_csv_dir)"
   ]
  },
  {
   "cell_type": "code",
   "execution_count": 24,
   "metadata": {
    "pycharm": {
     "is_executing": true,
     "name": "#%%\n"
    }
   },
   "outputs": [],
   "source": [
    "df_monitor.to_csv('{}/monitor.csv'.format(output_csv_dir), index_label=\"index\")\n",
    "# df_info.to_csv('{}/info.csv'.format(output_csv_dir), index_label=\"index\")\n",
    "\n"
   ]
  },
  {
   "cell_type": "code",
   "execution_count": 19,
   "metadata": {},
   "outputs": [],
   "source": [
    "# For using with custom code\n",
    "\n",
    "df_results = df_monitor"
   ]
  },
  {
   "cell_type": "code",
   "execution_count": null,
   "metadata": {
    "pycharm": {
     "is_executing": true,
     "name": "#%%\n"
    }
   },
   "outputs": [],
   "source": [
    "\n",
    "def manifest_helper(d):\n",
    "    manifest_cols = []\n",
    "    for key, value in d.items():\n",
    "        # print(key, '->', type(value))\n",
    "        # print(type(value))\n",
    "        type_map = {\n",
    "            str: 18,\n",
    "            bool: 1,\n",
    "            int: 8,\n",
    "            numpy.int64: 0,\n",
    "            float: 6,\n",
    "            numpy.float64: 6\n",
    "\n",
    "        }\n",
    "\n",
    "        if type(value) in type_map.keys():\n",
    "\n",
    "            c = {\n",
    "                \"type\": type_map[type(value)],\n",
    "                \"id\": key,\n",
    "                \"name\": key\n",
    "            }\n",
    "\n",
    "\n",
    "        else:\n",
    "            c = {\n",
    "                \"type\": '',\n",
    "                \"id\": key,\n",
    "                \"name\": key\n",
    "            }\n",
    "        manifest_cols.append(c)\n",
    "    print(',\\n'.join(json.dumps(elem) for elem in manifest_cols))\n",
    "\n",
    "manifest_helper(df_result.iloc[0])"
   ]
  }
 ],
 "metadata": {
  "kernelspec": {
   "display_name": "Python 3",
   "language": "python",
   "name": "python3"
  },
  "language_info": {
   "codemirror_mode": {
    "name": "ipython",
    "version": 3
   },
   "file_extension": ".py",
   "mimetype": "text/x-python",
   "name": "python",
   "nbconvert_exporter": "python",
   "pygments_lexer": "ipython3",
   "version": "3.7.3"
  }
 },
 "nbformat": 4,
 "nbformat_minor": 4
}
